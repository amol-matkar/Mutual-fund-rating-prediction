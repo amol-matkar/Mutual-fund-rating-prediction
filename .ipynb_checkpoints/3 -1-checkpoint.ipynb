{
 "cells": [
  {
   "cell_type": "code",
   "execution_count": 1,
   "metadata": {},
   "outputs": [],
   "source": [
    "import pandas as pd\n",
    "import numpy as np\n",
    "np.seterr(divide='ignore', invalid='ignore')\n",
    "from sklearn import preprocessing\n",
    "from sklearn.preprocessing import LabelEncoder # Label encoder\n",
    "import seaborn as sns\n",
    "import matplotlib.pyplot as plt\n",
    "from sklearn.preprocessing import LabelBinarizer\n",
    "\n",
    "label_binarizer = LabelBinarizer()\n",
    "\n",
    "\n",
    "from sklearn.model_selection import train_test_split\n",
    "from sklearn.preprocessing import StandardScaler\n",
    "from sklearn.ensemble import RandomForestClassifier\n",
    "from sklearn import metrics\n",
    "from sklearn import model_selection\n",
    "# from scipy.stats import zscore\n",
    "\n",
    "from sklearn.model_selection import KFold\n",
    "from imblearn.pipeline import pipeline\n",
    "from sklearn.compose import ColumnTransformer\n",
    "from sklearn.impute import SimpleImputer\n",
    "from sklearn.preprocessing import StandardScaler, OneHotEncoder\n",
    "from sklearn.feature_selection import SelectFromModel\n",
    "\n",
    "\n",
    "labelencoder = LabelEncoder()\n"
   ]
  },
  {
   "cell_type": "code",
   "execution_count": 3,
   "metadata": {},
   "outputs": [],
   "source": [
    "fund_config = pd.read_csv('fund_config.csv')\n",
    "fund_ratios = pd.read_csv('fund_ratios.csv', thousands=',')\n",
    "bond_ratings = pd.read_csv('bond_ratings.csv', thousands=',')\n",
    "fund_allocations = pd.read_csv('fund_allocations.csv', thousands=',') # ID\n",
    "fund_specs = pd.read_csv('fund_specs.csv', thousands=',')\n",
    "other_specs = pd.read_csv('other_specs.csv', thousands=',')\n",
    "return_3year = pd.read_csv('return_3year.csv', thousands=',')\n",
    "return_5year = pd.read_csv('return_5year.csv', thousands=',')\n",
    "return_10year = pd.read_csv('return_10year.csv', thousands=',')\n",
    "fund_allocations.rename(columns={'id': 'tag'}, inplace=True)\n",
    "\n",
    "data = fund_config.merge(fund_ratios, on='fund_id' )\n",
    "data = data.merge(bond_ratings, on='tag')\n",
    "data = data.merge(fund_allocations, on='tag')\n",
    "data = data.merge(fund_specs, on='tag')\n",
    "data = data.merge(other_specs, on='tag')\n",
    "data = data.merge(return_3year, on='tag')\n",
    "data = data.merge(return_5year, on='tag')\n",
    "data = data.merge(return_10year, on='fund_id')\n",
    "\n",
    "data['greatstone_rating'] = data.apply(\n",
    "    lambda row: row['greatstone_rating_y'],\n",
    "    axis=1\n",
    ")\n",
    "\n",
    "data.drop(['greatstone_rating_x', 'greatstone_rating_y', 'tag'], axis=1, inplace=True)\n",
    "\n",
    "test_data = pd.DataFrame(data[data['greatstone_rating'].isnull()])\n",
    "\n",
    "data.drop(data[data['greatstone_rating'].isnull()].index.tolist(), inplace=True, axis=0)\n",
    "\n",
    "data.greatstone_rating.replace({0: 1}, inplace=True)\n",
    "\n",
    "data = data.reset_index(drop=True)\n",
    "\n",
    "# # dropping rows which has more than 50 null value\n",
    "# null_values_indexs = []\n",
    "# for i in range(len(data.index)) :\n",
    "#     if data.iloc[i].isnull().sum() > 30 :\n",
    "#         # print(\"Nan in row \", i , \" : \" ,  data.iloc[i].isnull().sum())\n",
    "#         null_values_indexs.append(i)\n",
    "        \n",
    "# print(f'\\nDroping rows: {len(null_values_indexs)}')\n",
    "# print(f'\\nDroping rows: {null_values_indexs}')\n",
    "# data.drop(null_values_indexs, inplace=True)"
   ]
  },
  {
   "cell_type": "code",
   "execution_count": null,
   "metadata": {},
   "outputs": [],
   "source": [
    "# missing_df = data.isnull().sum(axis=0).reset_index()\n",
    "# missing_df.columns = ['column_name', 'missing_count']\n",
    "# missing_df = missing_df.loc[missing_df['missing_count']>0]\n",
    "# missing_df = missing_df.sort_values(by='missing_count')\n",
    "\n",
    "# ind = np.arange(missing_df.shape[0])\n",
    "# width = 0.9\n",
    "# fig, ax = plt.subplots(figsize=(12,30))\n",
    "# rects = ax.barh(ind, missing_df.missing_count.values, color='blue')\n",
    "# ax.set_yticks(ind)\n",
    "# ax.set_yticklabels(missing_df.column_name.values, rotation='horizontal')\n",
    "# ax.set_xlabel(\"Count of missing values\")\n",
    "# ax.set_title(\"Number of missing values in each column\")\n",
    "# plt.show()"
   ]
  },
  {
   "cell_type": "code",
   "execution_count": 4,
   "metadata": {},
   "outputs": [
    {
     "data": {
      "text/plain": [
       "Index(['category', 'parent_company', 'fund_id', 'fund_name',\n",
       "       'investment_class', 'currency', 'inception_date', 'fund_size'],\n",
       "      dtype='object')"
      ]
     },
     "execution_count": 4,
     "metadata": {},
     "output_type": "execute_result"
    }
   ],
   "source": [
    "categorical_features = data.select_dtypes(include=['object']).columns\n",
    "categorical_features"
   ]
  },
  {
   "cell_type": "code",
   "execution_count": 5,
   "metadata": {},
   "outputs": [],
   "source": [
    "# data.drop(['category', 'parent_company', 'fund_id', 'fund_name', 'currency', 'inception_date'], axis=1, inplace=True)\n",
    "\n",
    "cols_to_drop = ['parent_company', 'fund_id', 'fund_name', 'currency', 'inception_date']"
   ]
  },
  {
   "cell_type": "code",
   "execution_count": 6,
   "metadata": {},
   "outputs": [],
   "source": [
    "# outliers_handling\n",
    "def outliers_handling(cols):\n",
    "    cols = pd.DataFrame(cols)\n",
    "    Q1 = cols.quantile(0.25)\n",
    "    Q3 = cols.quantile(0.75)\n",
    "    IQR = Q3 - Q1\n",
    "    # print(IQR)\n",
    "\n",
    "    # Replace every outlier on the lower side by the lower whisker\n",
    "    for i, j in zip(np.where(cols < Q1 - 1.5 * IQR)[0], np.where(cols < Q1 - 1.5 * IQR)[1]): \n",
    "\n",
    "        whisker  = Q1 - 1.5 * IQR\n",
    "        cols.iloc[i,j] = whisker[j]\n",
    "\n",
    "\n",
    "    #Replace every outlier on the upper side by the upper whisker    \n",
    "    for i, j in zip(np.where(cols > Q3 + 1.5 * IQR)[0], np.where(cols > Q3 + 1.5 * IQR)[1]):\n",
    "\n",
    "        whisker  = Q3 + 1.5 * IQR\n",
    "        cols.iloc[i,j] = whisker[j]\n",
    "        \n",
    "    return cols\n",
    "\n",
    "data.total_assets = outliers_handling(data.total_assets)"
   ]
  },
  {
   "cell_type": "code",
   "execution_count": 636,
   "metadata": {},
   "outputs": [],
   "source": [
    "data.drop()\n",
    "\n",
    "X = data.drop('greatstone_rating', axis=1)\n",
    "y = data.greatstone_rating\n",
    "y = label_binarizer.fit_transform(y)\n",
    "\n",
    "numeric_features = X.select_dtypes(include=['int64', 'float64']).columns\n",
    "categorical_features = X.select_dtypes(include=['object']).columns\n",
    "\n",
    "numeric_transformer = Pipeline(steps=[\n",
    "    ('imputer', SimpleImputer(strategy='median')),\n",
    "    ('scaler', StandardScaler())])\n",
    "\n",
    "categorical_features = data.select_dtypes(include=['object']).columns\n",
    "categorical_transformer = Pipeline(steps=[\n",
    "    ('imputer', SimpleImputer(strategy='constant', fill_value='missing')),\n",
    "    ('onehot', OneHotEncoder(handle_unknown='ignore'))])\n",
    "\n",
    "preprocessor = ColumnTransformer(\n",
    "    transformers=[\n",
    "        ('drop_columns', 'drop', cols_to_drop),\n",
    "        ('num', numeric_transformer, numeric_features),\n",
    "        ('cat', categorical_transformer, categorical_features)])"
   ]
  },
  {
   "cell_type": "code",
   "execution_count": 637,
   "metadata": {},
   "outputs": [],
   "source": [
    "rfc= RandomForestClassifier(n_estimators = 200, random_state=1, max_depth=30, criterion='entropy', class_weight='balanced') \n",
    "#max_leaf_nodes=30\n",
    "\n",
    "# Append classifier to preprocessing pipeline.\n",
    "# Now we have a full prediction pipeline.\n",
    "# https://scikit-learn.org/stable/modules/feature_selection.html\n",
    "clf = Pipeline(steps=[\n",
    "                        ('preprocessor', preprocessor),\n",
    "                        ('feature_selection', SelectFromModel(RandomForestClassifier(), threshold=0.003 )),\n",
    "                        ('classifier', rfc)\n",
    "                    ])\n",
    "\n",
    "# clf = Pipeline(steps=[('preprocessor', preprocessor),\n",
    "#                       ('classifier', rfc)])"
   ]
  },
  {
   "cell_type": "code",
   "execution_count": 638,
   "metadata": {},
   "outputs": [],
   "source": [
    "X_train, X_test, y_train, y_test = train_test_split(X, y, test_size=0.25, random_state=1)"
   ]
  },
  {
   "cell_type": "code",
   "execution_count": 639,
   "metadata": {},
   "outputs": [
    {
     "name": "stdout",
     "output_type": "stream",
     "text": [
      "[0.88871525 0.87250891 0.88042614 0.86640645 0.87172923 0.87105631\n",
      " 0.865111   0.86782889 0.85798928 0.86385526]\n",
      "0.8705626715710366\n",
      "0.008305086378923555\n"
     ]
    }
   ],
   "source": [
    "kfold = KFold(n_splits=10, random_state=1, shuffle=True )\n",
    "\n",
    "rfcl_cross_val_score = model_selection.cross_val_score(clf, X_train, y_train, cv=kfold, scoring='average_precision')\n",
    "\n",
    "print(rfcl_cross_val_score)\n",
    "\n",
    "print(rfcl_cross_val_score.mean())\n",
    "\n",
    "print(rfcl_cross_val_score.std())"
   ]
  },
  {
   "cell_type": "code",
   "execution_count": 640,
   "metadata": {},
   "outputs": [
    {
     "name": "stdout",
     "output_type": "stream",
     "text": [
      "Train data model score: 1.000\n",
      "Test data model score: 0.711\n"
     ]
    }
   ],
   "source": [
    "clf.fit(X_train, y_train)\n",
    "\n",
    "print(\"Train data model score: %.3f\" % clf.score(X_train, y_train))\n",
    "print(\"Test data model score: %.3f\" % clf.score(X_test, y_test))"
   ]
  },
  {
   "cell_type": "code",
   "execution_count": 641,
   "metadata": {},
   "outputs": [
    {
     "name": "stdout",
     "output_type": "stream",
     "text": [
      "model score: 0.841\n"
     ]
    }
   ],
   "source": [
    "y_pred = clf.predict(X_test)\n",
    "print(\"model score: %.3f\" % metrics.precision_score(y_test, y_pred, average='micro'))"
   ]
  },
  {
   "cell_type": "code",
   "execution_count": 648,
   "metadata": {},
   "outputs": [
    {
     "name": "stdout",
     "output_type": "stream",
     "text": [
      "[1. 3. 1. ... 5. 3. 1.]\n",
      "[1. 3. 1. ... 5. 1. 1.]\n"
     ]
    }
   ],
   "source": [
    "print(label_binarizer.inverse_transform(y_test))\n",
    "print(label_binarizer.inverse_transform(y_pred))"
   ]
  },
  {
   "cell_type": "code",
   "execution_count": 642,
   "metadata": {},
   "outputs": [],
   "source": [
    "fund_ids = test_data.fund_id\n",
    "test_data_copy = test_data.copy()\n",
    "test_data.drop(['greatstone_rating'], axis=1, inplace=True)"
   ]
  },
  {
   "cell_type": "code",
   "execution_count": 649,
   "metadata": {},
   "outputs": [
    {
     "data": {
      "text/plain": [
       "array([[0, 1, 0, 0, 0],\n",
       "       [0, 0, 0, 1, 0],\n",
       "       [0, 1, 0, 0, 0],\n",
       "       ...,\n",
       "       [0, 0, 1, 0, 0],\n",
       "       [0, 1, 0, 0, 0],\n",
       "       [0, 1, 0, 0, 0]])"
      ]
     },
     "execution_count": 649,
     "metadata": {},
     "output_type": "execute_result"
    }
   ],
   "source": [
    "y_test_data_pred = clf.predict(test_data)\n",
    "y_test_data_pred"
   ]
  },
  {
   "cell_type": "code",
   "execution_count": 650,
   "metadata": {},
   "outputs": [],
   "source": [
    "predicted = label_binarizer.inverse_transform(y_test_data_pred)"
   ]
  },
  {
   "cell_type": "code",
   "execution_count": 651,
   "metadata": {},
   "outputs": [
    {
     "data": {
      "text/html": [
       "<div>\n",
       "<style scoped>\n",
       "    .dataframe tbody tr th:only-of-type {\n",
       "        vertical-align: middle;\n",
       "    }\n",
       "\n",
       "    .dataframe tbody tr th {\n",
       "        vertical-align: top;\n",
       "    }\n",
       "\n",
       "    .dataframe thead th {\n",
       "        text-align: right;\n",
       "    }\n",
       "</style>\n",
       "<table border=\"1\" class=\"dataframe\">\n",
       "  <thead>\n",
       "    <tr style=\"text-align: right;\">\n",
       "      <th></th>\n",
       "      <th>fund_id</th>\n",
       "      <th>greatstone_rating</th>\n",
       "    </tr>\n",
       "  </thead>\n",
       "  <tbody>\n",
       "    <tr>\n",
       "      <td>0</td>\n",
       "      <td>264614c6-5ac3-4146-ba26-1674b136cb40</td>\n",
       "      <td>2.0</td>\n",
       "    </tr>\n",
       "    <tr>\n",
       "      <td>7</td>\n",
       "      <td>08702e4f-c5bb-4f0a-b63b-f9e4a0eb2425</td>\n",
       "      <td>4.0</td>\n",
       "    </tr>\n",
       "    <tr>\n",
       "      <td>16</td>\n",
       "      <td>cf56db43-046b-49d0-b8f0-90fe9cf8aacf</td>\n",
       "      <td>2.0</td>\n",
       "    </tr>\n",
       "    <tr>\n",
       "      <td>24</td>\n",
       "      <td>3faa81fc-9640-43d0-8b68-e5b06c65bfe6</td>\n",
       "      <td>3.0</td>\n",
       "    </tr>\n",
       "    <tr>\n",
       "      <td>28</td>\n",
       "      <td>09e24f3d-7191-4207-887c-98f31c6b59d2</td>\n",
       "      <td>3.0</td>\n",
       "    </tr>\n",
       "    <tr>\n",
       "      <td>...</td>\n",
       "      <td>...</td>\n",
       "      <td>...</td>\n",
       "    </tr>\n",
       "    <tr>\n",
       "      <td>24983</td>\n",
       "      <td>fc278788-24bf-4844-a538-d8c67d47275c</td>\n",
       "      <td>3.0</td>\n",
       "    </tr>\n",
       "    <tr>\n",
       "      <td>24992</td>\n",
       "      <td>0a3c101f-c969-4e85-8395-3dc3e33dd3d6</td>\n",
       "      <td>4.0</td>\n",
       "    </tr>\n",
       "    <tr>\n",
       "      <td>24996</td>\n",
       "      <td>12fc8949-6563-4dd4-a7cc-0400131fa6ab</td>\n",
       "      <td>3.0</td>\n",
       "    </tr>\n",
       "    <tr>\n",
       "      <td>24998</td>\n",
       "      <td>65421547-1407-4c50-92dc-e1cb1e9972dd</td>\n",
       "      <td>2.0</td>\n",
       "    </tr>\n",
       "    <tr>\n",
       "      <td>24999</td>\n",
       "      <td>e0284aeb-630a-4499-8745-2a9abba49528</td>\n",
       "      <td>2.0</td>\n",
       "    </tr>\n",
       "  </tbody>\n",
       "</table>\n",
       "<p>5000 rows × 2 columns</p>\n",
       "</div>"
      ],
      "text/plain": [
       "                                    fund_id  greatstone_rating\n",
       "0      264614c6-5ac3-4146-ba26-1674b136cb40                2.0\n",
       "7      08702e4f-c5bb-4f0a-b63b-f9e4a0eb2425                4.0\n",
       "16     cf56db43-046b-49d0-b8f0-90fe9cf8aacf                2.0\n",
       "24     3faa81fc-9640-43d0-8b68-e5b06c65bfe6                3.0\n",
       "28     09e24f3d-7191-4207-887c-98f31c6b59d2                3.0\n",
       "...                                     ...                ...\n",
       "24983  fc278788-24bf-4844-a538-d8c67d47275c                3.0\n",
       "24992  0a3c101f-c969-4e85-8395-3dc3e33dd3d6                4.0\n",
       "24996  12fc8949-6563-4dd4-a7cc-0400131fa6ab                3.0\n",
       "24998  65421547-1407-4c50-92dc-e1cb1e9972dd                2.0\n",
       "24999  e0284aeb-630a-4499-8745-2a9abba49528                2.0\n",
       "\n",
       "[5000 rows x 2 columns]"
      ]
     },
     "execution_count": 651,
     "metadata": {},
     "output_type": "execute_result"
    }
   ],
   "source": [
    "submission = pd.DataFrame({'fund_id': fund_ids, 'greatstone_rating': predicted})\n",
    "\n",
    "submission"
   ]
  },
  {
   "cell_type": "code",
   "execution_count": 652,
   "metadata": {},
   "outputs": [],
   "source": [
    "submission.to_csv('submission_file.csv', index=False)"
   ]
  },
  {
   "cell_type": "code",
   "execution_count": 653,
   "metadata": {},
   "outputs": [],
   "source": [
    "sub = pd.read_csv('data/sample_submission.csv')"
   ]
  },
  {
   "cell_type": "code",
   "execution_count": 685,
   "metadata": {},
   "outputs": [],
   "source": [
    "newdf = pd.DataFrame()\n",
    "for i in range(len(sub)) :\n",
    "    fund_id = sub.loc[i, \"fund_id\"]\n",
    "    greatstone_rating = submission.loc[submission[submission['fund_id'] == fund_id].index.to_list()[0], \"greatstone_rating\"]\n",
    "#     print(fund_id)\n",
    "#     print(submission[submission['fund_id'] == fund_id].index.to_list())\n",
    "#     greatstone_rating = submission[submission['fund_id'] == fund_id][\"greatstone_rating\"]\n",
    "#     print(fund_id, submission[submission['fund_id'] == fund_id][\"greatstone_rating\"])\n",
    "    newdf = newdf.append({'fund_id': fund_id, 'greatstone_rating': greatstone_rating}, ignore_index=True)\n",
    "# #     modDfObj = dfObj.append(pd.Series(['Raju', 21, 'Bangalore', 'India'], index=dfObj.columns ), ignore_index=True)\n",
    "    "
   ]
  },
  {
   "cell_type": "code",
   "execution_count": 686,
   "metadata": {},
   "outputs": [
    {
     "data": {
      "text/html": [
       "<div>\n",
       "<style scoped>\n",
       "    .dataframe tbody tr th:only-of-type {\n",
       "        vertical-align: middle;\n",
       "    }\n",
       "\n",
       "    .dataframe tbody tr th {\n",
       "        vertical-align: top;\n",
       "    }\n",
       "\n",
       "    .dataframe thead th {\n",
       "        text-align: right;\n",
       "    }\n",
       "</style>\n",
       "<table border=\"1\" class=\"dataframe\">\n",
       "  <thead>\n",
       "    <tr style=\"text-align: right;\">\n",
       "      <th></th>\n",
       "      <th>fund_id</th>\n",
       "      <th>greatstone_rating</th>\n",
       "    </tr>\n",
       "  </thead>\n",
       "  <tbody>\n",
       "    <tr>\n",
       "      <td>0</td>\n",
       "      <td>85a6edf9-db47-490c-981a-168ce90434bb</td>\n",
       "      <td>4.0</td>\n",
       "    </tr>\n",
       "    <tr>\n",
       "      <td>1</td>\n",
       "      <td>654dac08-5e5d-4cf0-870e-3167087de7d2</td>\n",
       "      <td>2.0</td>\n",
       "    </tr>\n",
       "    <tr>\n",
       "      <td>2</td>\n",
       "      <td>75214019-f876-42a9-a316-328b759ac4ba</td>\n",
       "      <td>1.0</td>\n",
       "    </tr>\n",
       "    <tr>\n",
       "      <td>3</td>\n",
       "      <td>1fe8de6d-cd33-489e-a829-211f1f622eed</td>\n",
       "      <td>1.0</td>\n",
       "    </tr>\n",
       "    <tr>\n",
       "      <td>4</td>\n",
       "      <td>bd87a7a0-6ca5-4607-a0cf-d396ecd6037a</td>\n",
       "      <td>3.0</td>\n",
       "    </tr>\n",
       "    <tr>\n",
       "      <td>...</td>\n",
       "      <td>...</td>\n",
       "      <td>...</td>\n",
       "    </tr>\n",
       "    <tr>\n",
       "      <td>4995</td>\n",
       "      <td>cd0a6c98-3d60-4548-a9db-493d80702107</td>\n",
       "      <td>4.0</td>\n",
       "    </tr>\n",
       "    <tr>\n",
       "      <td>4996</td>\n",
       "      <td>5a824843-621b-469f-a7d3-bae5b78beece</td>\n",
       "      <td>2.0</td>\n",
       "    </tr>\n",
       "    <tr>\n",
       "      <td>4997</td>\n",
       "      <td>acb8601f-bb42-4fe3-9823-c124d38cfc82</td>\n",
       "      <td>4.0</td>\n",
       "    </tr>\n",
       "    <tr>\n",
       "      <td>4998</td>\n",
       "      <td>e3f00c88-98d9-4a44-930c-891513652f8a</td>\n",
       "      <td>4.0</td>\n",
       "    </tr>\n",
       "    <tr>\n",
       "      <td>4999</td>\n",
       "      <td>ef6f6819-2879-41c3-9736-ab1bf4d97869</td>\n",
       "      <td>4.0</td>\n",
       "    </tr>\n",
       "  </tbody>\n",
       "</table>\n",
       "<p>5000 rows × 2 columns</p>\n",
       "</div>"
      ],
      "text/plain": [
       "                                   fund_id  greatstone_rating\n",
       "0     85a6edf9-db47-490c-981a-168ce90434bb                4.0\n",
       "1     654dac08-5e5d-4cf0-870e-3167087de7d2                2.0\n",
       "2     75214019-f876-42a9-a316-328b759ac4ba                1.0\n",
       "3     1fe8de6d-cd33-489e-a829-211f1f622eed                1.0\n",
       "4     bd87a7a0-6ca5-4607-a0cf-d396ecd6037a                3.0\n",
       "...                                    ...                ...\n",
       "4995  cd0a6c98-3d60-4548-a9db-493d80702107                4.0\n",
       "4996  5a824843-621b-469f-a7d3-bae5b78beece                2.0\n",
       "4997  acb8601f-bb42-4fe3-9823-c124d38cfc82                4.0\n",
       "4998  e3f00c88-98d9-4a44-930c-891513652f8a                4.0\n",
       "4999  ef6f6819-2879-41c3-9736-ab1bf4d97869                4.0\n",
       "\n",
       "[5000 rows x 2 columns]"
      ]
     },
     "execution_count": 686,
     "metadata": {},
     "output_type": "execute_result"
    }
   ],
   "source": [
    "newdf"
   ]
  },
  {
   "cell_type": "code",
   "execution_count": 688,
   "metadata": {},
   "outputs": [],
   "source": [
    "newdf.to_csv('submission_file.csv', index=False)"
   ]
  },
  {
   "cell_type": "code",
   "execution_count": null,
   "metadata": {},
   "outputs": [],
   "source": []
  }
 ],
 "metadata": {
  "kernelspec": {
   "display_name": "Python 3",
   "language": "python",
   "name": "python3"
  },
  "language_info": {
   "codemirror_mode": {
    "name": "ipython",
    "version": 3
   },
   "file_extension": ".py",
   "mimetype": "text/x-python",
   "name": "python",
   "nbconvert_exporter": "python",
   "pygments_lexer": "ipython3",
   "version": "3.7.4"
  }
 },
 "nbformat": 4,
 "nbformat_minor": 2
}
